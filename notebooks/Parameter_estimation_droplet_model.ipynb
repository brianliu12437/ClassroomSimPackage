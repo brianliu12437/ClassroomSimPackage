{
  "cells": [
    {
      "cell_type": "markdown",
      "metadata": {
        "id": "W2ZIOwLuv7Av"
      },
      "source": [
        "\n",
        "This notebook performs maximum likelihood estimation to find parameters in a function that returns the probability of COVID-19 transmission given distance over a two-dimensional space. \n",
        "\n",
        "1D droplet deposition model: Sun and Zhai 2020 https://doi.org/10.1016/j.scs.2020.102390\n",
        "\n",
        "Exponential dose response model: Buonanno et al. 2020 https://www.ncbi.nlm.nih.gov/pmc/articles/PMC7474922/ \n",
        "\n",
        "Train data: Hu et al. 2021 https://doi.org/10.1093/cid/ciaa1057"
      ]
    },
    {
      "cell_type": "markdown",
      "metadata": {},
      "source": [
        "# Approach: Maximum Likelihood Estimation\n",
        "\n",
        "\n",
        "The fraction of close contacts seated $x$ rows and $y$ columns away from an index case that are in the $\\alpha$ cone of exposure is\n",
        "$$\n",
        "q_\\alpha(x,y) = \\frac{1}{2} + \\frac{1}{2} \\mathbf{1}\\{\\arctan\\left({d_r(x,y)}/{d_c(x,y)}\\right) \\leq \\alpha\\},\n",
        "$$\n",
        "where $d_r$ and $d_c$ denote the row-wise and column-wise distance between the pair.\n",
        "\n",
        "The probability of transmission for a close contact at $(x,y)$ within the cone of exposure is\n",
        "$$p_{c_2}(d(x,y)) = 1-\\exp\\left(-c_2\\cdot \\frac{-0.1819\\cdot \\ln d(x,y) + 0.43276}{d(x,y)}\\cdot T\\right),$$\n",
        "where $T$ is the mean co-travel time.\n",
        "\n",
        "We assume $Y(x,y)\\sim \\text{Binomial} (N(x,y), q_\\alpha(x,y)p_{c_2}(d(x,y)) )$. \n",
        "\n",
        "Denote $\\nu = (\\alpha, c_2)$.\n",
        "\n",
        "The likelihood function:\n",
        "$$L(\\nu) = \\prod_{(x,y)} \\binom{N(x,y)}{Y(x,y)}\\cdot\\left(q_\\alpha(x,y)p_{c_2}(d(x,y))\\right)^{Y(x,y)}\\cdot \\left(1-q_\\alpha(x,y)p_{c_2}(d(x,y))\\right)^{N(x,y)-Y(x,y)}$$\n",
        "\n",
        "\n",
        "The log likelihood function:\n",
        "$\\log L(\\nu) = \\sum_{(x,y)} \\log\\binom{N(x,y)}{Y(x,y)}+\\left[ Y(x,y)\\log\\left(q_\\alpha(x,y)p_{c_2}(d(x,y))\\right) + (N(x,y)-Y(x,y))\\log\\left(1-q_\\alpha(x,y)p_{c_2}(d(x,y))\\right)\\right]$\n",
        "\n",
        "\n",
        "We want to find the maximum likelihood estimator:\n",
        "$$(\\alpha^*, c_2^*) = \\nu^* = \\arg\\max_\\nu \\log L(\\nu).$$\n"
      ]
    },
    {
      "cell_type": "code",
      "execution_count": 2,
      "metadata": {
        "colab": {
          "base_uri": "https://localhost:8080/"
        },
        "id": "T1HEnlMN9Cat",
        "outputId": "7f425089-6cb0-4db4-e141-fc337feab144"
      },
      "outputs": [],
      "source": [
        "import numpy as np\n",
        "import matplotlib.pyplot as plt\n",
        "from scipy.optimize import minimize\n",
        "from scipy.special import binom"
      ]
    },
    {
      "cell_type": "code",
      "execution_count": 60,
      "metadata": {
        "id": "P87rwbTf9g14"
      },
      "outputs": [],
      "source": [
        "# data from high-speed train\n",
        "\n",
        "unit_distance = 0.5\n",
        "mean_cotravel_time = 2.1\n",
        "\n",
        "# number of close contacts at seats (x rows, y cols) apart from an index case\n",
        "attack_rates_counts = np.array([[1, 2605, 1996, 1845, 1825, 1028],\n",
        "                             [4791, 5084, 3664, 3464, 3525, 1872],\n",
        "                             [4386, 4751, 3429, 3212, 3250, 1769],\n",
        "                             [4026, 4395, 3110, 2945, 2970, 1589]])\n",
        "counts = attack_rates_counts.flatten()[1:]\n",
        "\n",
        "# number of close contacts at seats (x rows, y cols) apart from an index case\n",
        "# that were later confirmed as positive\n",
        "positive_counts = np.array([[0, 92, 33, 7, 7, 3],\n",
        "                            [10, 12, 5, 3, 1, 1],\n",
        "                            [11, 8, 8, 5, 3, 3],\n",
        "                            [2, 2, 4, 3, 3, 1]])\n",
        "num_pos_vec = positive_counts.flatten()[1:]\n",
        "\n",
        "attack_rates = np.array([[100, 3.53, 1.65, 0.38, 0.38, 0.29],\n",
        "                         [0.21, 0.24, 0.14, 0.09, 0.03, 0.05],\n",
        "                         [0.25, 0.17, 0.23, 0.16, 0.09, 0.17],\n",
        "                         [0.05, 0.05, 0.13, 0.10, 0.10, 0.06]]) * 0.01\n",
        "\n",
        "row_distance = 0.9 * np.arange(4)\n",
        "col_distance = np.array([0, 0.5, 1.05, 1.6, 2.1, 2.6])\n",
        "\n",
        "distance_matrix = np.array([[np.sqrt(row_distance[i]**2 + col_distance[j]**2) for j in range(6)] for i in range(4)])\n",
        "distance_vec = distance_matrix.flatten()[1:]\n",
        "\n",
        "# fraction of droplets that travel beyond distance d\n",
        "compute_beta = lambda d: (-0.1819*np.log(d)+0.43276)/d if d > 0.044 else 1\n",
        "\n",
        "gamma_mask = 0.8"
      ]
    },
    {
      "cell_type": "code",
      "execution_count": 42,
      "metadata": {
        "colab": {
          "base_uri": "https://localhost:8080/"
        },
        "id": "B7VX8tcD005k",
        "outputId": "0bc487a8-4871-4b47-b145-5242051b080f"
      },
      "outputs": [
        {
          "name": "stdout",
          "output_type": "stream",
          "text": [
            "[[0.         0.5        1.05       1.6        2.1        2.6       ]\n",
            " [0.9        1.02956301 1.38293167 1.83575598 2.28473193 2.7513633 ]\n",
            " [1.8        1.86815417 2.0838666  2.40831892 2.76586334 3.16227766]\n",
            " [2.7        2.74590604 2.89698119 3.13847097 3.42052628 3.74833296]]\n"
          ]
        }
      ],
      "source": [
        "print(distance_matrix)"
      ]
    },
    {
      "cell_type": "code",
      "execution_count": 43,
      "metadata": {
        "colab": {
          "base_uri": "https://localhost:8080/"
        },
        "id": "9eGYF2ya7ISy",
        "outputId": "ac698a13-a145-49ad-ccca-3246d4dbe9df"
      },
      "outputs": [
        {
          "data": {
            "text/plain": [
              "71532"
            ]
          },
          "execution_count": 43,
          "metadata": {},
          "output_type": "execute_result"
        }
      ],
      "source": [
        "np.sum(attack_rates_counts)"
      ]
    },
    {
      "cell_type": "code",
      "execution_count": 44,
      "metadata": {
        "colab": {
          "base_uri": "https://localhost:8080/"
        },
        "id": "ljPdQp4qUOMx",
        "outputId": "2862422a-7edb-4805-835d-35d29938bb32"
      },
      "outputs": [
        {
          "name": "stderr",
          "output_type": "stream",
          "text": [
            "/tmp/ipykernel_814812/1016738103.py:2: RuntimeWarning: invalid value encountered in double_scalars\n",
            "  angle_matrix = np.array([[np.arctan(row_distance[i]/col_distance[j])*180/np.pi for j in range(6)] for i in range(4)])\n",
            "/tmp/ipykernel_814812/1016738103.py:2: RuntimeWarning: divide by zero encountered in double_scalars\n",
            "  angle_matrix = np.array([[np.arctan(row_distance[i]/col_distance[j])*180/np.pi for j in range(6)] for i in range(4)])\n"
          ]
        }
      ],
      "source": [
        "# Computes the angle that the susceptible is located wrt the source (horizontal neighbor = zero)\n",
        "angle_matrix = np.array([[np.arctan(row_distance[i]/col_distance[j])*180/np.pi for j in range(6)] for i in range(4)])\n",
        "angle_matrix[0,0]=0"
      ]
    },
    {
      "cell_type": "code",
      "execution_count": 45,
      "metadata": {},
      "outputs": [
        {
          "data": {
            "text/plain": [
              "array([[ 0.        ,  0.        ,  0.        ,  0.        ,  0.        ,\n",
              "         0.        ],\n",
              "       [90.        , 60.9453959 , 40.60129465, 29.35775354, 23.19859051,\n",
              "        19.093492  ],\n",
              "       [90.        , 74.475889  , 59.74356284, 48.36646066, 40.60129465,\n",
              "        34.69515353],\n",
              "       [90.        , 79.50852299, 68.74949449, 59.34933204, 52.12501635,\n",
              "        46.08092419]])"
            ]
          },
          "execution_count": 45,
          "metadata": {},
          "output_type": "execute_result"
        }
      ],
      "source": [
        "angle_matrix"
      ]
    },
    {
      "cell_type": "code",
      "execution_count": 61,
      "metadata": {
        "id": "d9ySHMenWotB"
      },
      "outputs": [],
      "source": [
        "# compute the fraction of people counted at (|row|, |col|) that are seated within the cone of exposure\n",
        "# extending from (-threshold_angle, 180 + threshold_angle) degrees\n",
        "\n",
        "# some seats at (-|row|, +-|col|), i.e., behind the index case, are not in the cone of exposure\n",
        "\n",
        "def fraction_in_cone(threshold_angle, scale_factor = 0.5, angle_matrix = angle_matrix):\n",
        "  frac = np.zeros((4,6))\n",
        "  for i in range(4):\n",
        "    for j in range(6):\n",
        "      if angle_matrix[i,j] < threshold_angle:\n",
        "        frac[i,j]=1\n",
        "      else:\n",
        "        frac[i,j]=scale_factor\n",
        "    \n",
        "  return frac"
      ]
    },
    {
      "cell_type": "code",
      "execution_count": 62,
      "metadata": {
        "colab": {
          "base_uri": "https://localhost:8080/"
        },
        "id": "tW94XxLBYKLW",
        "outputId": "be2a041b-fd86-4af7-f659-e4cb8a92375a"
      },
      "outputs": [
        {
          "name": "stdout",
          "output_type": "stream",
          "text": [
            "[[1.  1.  1.  1.  1.  1. ]\n",
            " [0.5 0.5 1.  1.  1.  1. ]\n",
            " [0.5 0.5 1.  1.  1.  1. ]\n",
            " [0.5 0.5 0.5 1.  1.  1. ]]\n"
          ]
        }
      ],
      "source": [
        "# As an example, we compute the fraction_in_cone_matrix for a threshold angle\n",
        "# the output matrix represents ... (TODO: explain; make consistent with doc)\n",
        "critical_angle = 60\n",
        "\n",
        "frac_in_cone_matrix = fraction_in_cone(60)\n",
        "print(frac_in_cone_matrix)"
      ]
    },
    {
      "cell_type": "code",
      "execution_count": 63,
      "metadata": {
        "id": "_pIHYLJJG0lg"
      },
      "outputs": [],
      "source": [
        "# define function to compute \n",
        "# the fraction of droplets received at distance d (called phi(d) in the paper) divide by d\n",
        "# define beta(d) = phi(d) / d\n",
        "\n",
        "def compute_beta(d, lambdaa=1):\n",
        "  if d > 0.044:\n",
        "    return (-0.1819*np.log(d)+0.43276)/(d**lambdaa)\n",
        "  else:\n",
        "    return 1"
      ]
    },
    {
      "cell_type": "code",
      "execution_count": 65,
      "metadata": {
        "id": "j93R8bLK_txD"
      },
      "outputs": [],
      "source": [
        "beta_matrix = np.array([[compute_beta(distance_matrix[i,j]) for j in range(6)] for i in range(4)])"
      ]
    },
    {
      "cell_type": "code",
      "execution_count": 18,
      "metadata": {
        "id": "TxQ2pgk9QTAx"
      },
      "outputs": [],
      "source": [
        "def compute_log_likelihood(angle, constant, lambdaa, N=counts, Y=num_pos_vec, d=distance_vec, gamma_mask = gamma_mask):\n",
        "  # compute frac q for given angle\n",
        "  fraction_in_cone_matrix = fraction_in_cone(angle)\n",
        "  q = fraction_in_cone_matrix.flatten()[1:]\n",
        "  \n",
        "  # compute log likelihood for given q and constant\n",
        "  log_llh = 0\n",
        "  for i in range(len(counts)):\n",
        "    prob_trans = q[i] * (1-np.exp(-constant * mean_cotravel_time * gamma_mask * compute_beta(d[i],lambdaa)))\n",
        "    log_llh += np.log(binom(N[i], Y[i])) + (Y[i] * np.log(prob_trans) + (N[i]-Y[i])*np.log(1-prob_trans))\n",
        "  \n",
        "  return log_llh"
      ]
    },
    {
      "cell_type": "code",
      "execution_count": 51,
      "metadata": {
        "id": "V201PHl8HXeC"
      },
      "outputs": [],
      "source": [
        "# lambdaa_grid = np.linspace(1,2,101)\n",
        "angle_grid = np.linspace(0, 30, 31)\n",
        "const_grid = np.linspace(0, 0.03, 61)"
      ]
    },
    {
      "cell_type": "code",
      "execution_count": 53,
      "metadata": {
        "colab": {
          "base_uri": "https://localhost:8080/"
        },
        "id": "MWV1NAcUIrvu",
        "outputId": "5c3039a1-9d21-4f6b-b2af-514f3c67aa60"
      },
      "outputs": [
        {
          "name": "stderr",
          "output_type": "stream",
          "text": [
            "/tmp/ipykernel_814812/1011737979.py:10: RuntimeWarning: divide by zero encountered in log\n",
            "  log_llh += np.log(binom(N[i], Y[i])) + (Y[i] * np.log(prob_trans) + (N[i]-Y[i])*np.log(1-prob_trans))\n"
          ]
        }
      ],
      "source": [
        "log_llh_array = np.zeros((len(angle_grid), len(const_grid)))\n",
        "\n",
        "for angle_idx in range(len(angle_grid)):\n",
        "  for const_idx in range(len(const_grid)):\n",
        "    log_llh_array[angle_idx, const_idx] = compute_log_likelihood(angle_grid[angle_idx], const_grid[const_idx], lambdaa = 1)"
      ]
    },
    {
      "cell_type": "code",
      "execution_count": 54,
      "metadata": {},
      "outputs": [
        {
          "name": "stdout",
          "output_type": "stream",
          "text": [
            "[ 1  2  3  4  5  6  7  8  9 10 11 12 13 14 15 16 17 18 19] [27 27 27 27 27 27 27 27 27 27 27 27 27 27 27 27 27 27 27]\n"
          ]
        }
      ],
      "source": [
        "# find the values of (alpha, constant) that maximize the likelihood\n",
        "\n",
        "max_alpha_idx, max_c_idx = np.where(log_llh_array == np.amax(log_llh_array))\n",
        "print(max_alpha_idx, max_c_idx)"
      ]
    },
    {
      "cell_type": "code",
      "execution_count": 55,
      "metadata": {},
      "outputs": [
        {
          "data": {
            "text/plain": [
              "array([ 1.,  2.,  3.,  4.,  5.,  6.,  7.,  8.,  9., 10., 11., 12., 13.,\n",
              "       14., 15., 16., 17., 18., 19.])"
            ]
          },
          "execution_count": 55,
          "metadata": {},
          "output_type": "execute_result"
        }
      ],
      "source": [
        "angle_grid[max_alpha_idx]"
      ]
    },
    {
      "cell_type": "code",
      "execution_count": 56,
      "metadata": {},
      "outputs": [
        {
          "data": {
            "text/plain": [
              "array([0.0135, 0.0135, 0.0135, 0.0135, 0.0135, 0.0135, 0.0135, 0.0135,\n",
              "       0.0135, 0.0135, 0.0135, 0.0135, 0.0135, 0.0135, 0.0135, 0.0135,\n",
              "       0.0135, 0.0135, 0.0135])"
            ]
          },
          "execution_count": 56,
          "metadata": {},
          "output_type": "execute_result"
        }
      ],
      "source": [
        "const_grid[max_c_idx]"
      ]
    },
    {
      "cell_type": "markdown",
      "metadata": {},
      "source": [
        "## Conclusion: \n",
        "\n",
        "maximizer of likelihood is alpha = 19 degrees, constant = 0.0135"
      ]
    },
    {
      "cell_type": "code",
      "execution_count": 57,
      "metadata": {
        "colab": {
          "base_uri": "https://localhost:8080/"
        },
        "id": "GSvRc1cI3A0g",
        "outputId": "30fad952-07da-4f20-ba95-0f2d249c4494"
      },
      "outputs": [
        {
          "data": {
            "text/plain": [
              "array([[1. , 1. , 1. , 1. , 1. , 1. ],\n",
              "       [0.5, 0.5, 0.5, 0.5, 0.5, 0.5],\n",
              "       [0.5, 0.5, 0.5, 0.5, 0.5, 0.5],\n",
              "       [0.5, 0.5, 0.5, 0.5, 0.5, 0.5]])"
            ]
          },
          "execution_count": 57,
          "metadata": {},
          "output_type": "execute_result"
        }
      ],
      "source": [
        "fraction_in_cone(angle_grid[1])"
      ]
    }
  ],
  "metadata": {
    "colab": {
      "collapsed_sections": [],
      "provenance": []
    },
    "interpreter": {
      "hash": "372ef2d13b73c68c53ec6b9b061d7cb047491a2968e0d83eb87fd59ffbf34bb0"
    },
    "kernelspec": {
      "display_name": "Python 3.9.7 ('ClassroomSim': conda)",
      "language": "python",
      "name": "python3"
    },
    "language_info": {
      "codemirror_mode": {
        "name": "ipython",
        "version": 3
      },
      "file_extension": ".py",
      "mimetype": "text/x-python",
      "name": "python",
      "nbconvert_exporter": "python",
      "pygments_lexer": "ipython3",
      "version": "3.9.13"
    }
  },
  "nbformat": 4,
  "nbformat_minor": 0
}
