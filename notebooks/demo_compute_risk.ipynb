{
 "cells": [
  {
   "cell_type": "code",
   "execution_count": 6,
   "metadata": {},
   "outputs": [
    {
     "name": "stdout",
     "output_type": "stream",
     "text": [
      "The autoreload extension is already loaded. To reload it, use:\n",
      "  %reload_ext autoreload\n"
     ]
    }
   ],
   "source": [
    "%load_ext autoreload\n",
    "%autoreload 2\n",
    "\n",
    "import sys\n",
    "sys.path.append('../')"
   ]
  },
  {
   "cell_type": "code",
   "execution_count": 7,
   "metadata": {},
   "outputs": [],
   "source": [
    "from ClassroomSim.simulate_one_classroom import droplet_risk_by_distance"
   ]
  },
  {
   "cell_type": "code",
   "execution_count": 12,
   "metadata": {},
   "outputs": [],
   "source": [
    "import numpy as np \n",
    "\n",
    "def droplet_risk_by_distance(\n",
    "    d: float, \n",
    "    susceptible_status: str, \n",
    "    source_status: str, \n",
    "    time: float, \n",
    "    class_type: str, \n",
    "    VE_params: dict\n",
    ") -> float:\n",
    "\n",
    "    r\"\"\"\n",
    "    Compute the risk that an unmasked susceptible person is infected through \n",
    "    droplet transmission by an unmasked source case seated a certain distance \n",
    "    away from him/her, depending on the vaccination status of both individuals, \n",
    "    exposure time, VE parameters, and class type. (The risk of droplet \n",
    "    transmission decreases with distance.)\n",
    "    \n",
    "    Args:\n",
    "        d: distance between source and susceptible, measured in meters.\n",
    "        susceptible status: 'V' = vaccinated, 'U' = unvaccinated\n",
    "        source_status: 'V' = vaccinated, 'U' = unvaccinated\n",
    "        time: length of exposure, measured in hours\n",
    "        pixels_per_foot: a parameter for translating distance in feet to \n",
    "            the number of pixels in the room layout\n",
    "        class_type: one of ['breathing', 'speaking', 'singing', \n",
    "            'heavy_breathing']\n",
    "        VE_params: dictionary for vaccine effectiveness parameters. \n",
    "            'VE_susceptible' = reduction in infection risk for a vaccinated \n",
    "                susceptible person\n",
    "            'VE_transmission' = reduction in the viral load emitted by a \n",
    "                vaccinated infectious person\n",
    "    Returns:\n",
    "        combined risk of droplet and aerosol transmission\n",
    "    \"\"\"\n",
    "\n",
    "    # convert distance in pixels to distance in meters\n",
    "    susceptible_const = 1\n",
    "    source_const = 1\n",
    "\n",
    "    if susceptible_status == 'V':\n",
    "        # probabiltiy of infection of a susceptible individual is scaled by \n",
    "        # susceptible_const if he/she is vaccinated\n",
    "        susceptible_const = 1 - VE_params['VE_susceptible']\n",
    "    if source_status == 'V':\n",
    "        # viral load of the source is reduced by source_const if vaccinated\n",
    "        source_const = (1 - VE_params['VE_transmission'])\n",
    "\n",
    "    if class_type == 'speaking':\n",
    "        source_const = source_const*6\n",
    "    elif class_type == 'singing':\n",
    "        source_const = source_const*48\n",
    "    elif class_type == 'heavy_breathing':\n",
    "        source_const = source_const*15\n",
    "\n",
    "    droplet_transmission_prob = 2.4 * susceptible_const * \\\n",
    "        (1-np.exp(-1 * source_const*0.0135*time*(-0.1819*np.log(d)+0.43276)/d))\n",
    "\n",
    "    droplet_transmission_prob = float(droplet_transmission_prob)\n",
    "    return max(droplet_transmission_prob, 0)\n"
   ]
  },
  {
   "cell_type": "code",
   "execution_count": 23,
   "metadata": {},
   "outputs": [],
   "source": [
    "aerosol_params = {\n",
    "    'inhale_air_rate': 6.8,\n",
    "    'dose_response_constant': 1440,\n",
    "    # \"nominal\" corresponding to viral load of 10^8 copies / mL\n",
    "    'nominal_breathe_virus_emitted_hourly': 3300, \n",
    "    'nominal_talk_virus_emitted_hourly' : 27300,\n",
    "    'nominal_sing_virus_emitted_hourly' : 330000,\n",
    "    'nominal_heavy_breathe_virus_emitted_hourly': 3300*15,\n",
    "    # distribution of viral load over orders of magnitude from 10^5 to 10^11\n",
    "    'viral_load_distribution': [0.12, 0.22, 0.3, 0.23, 0.103, 0.0236, 0.0034]    \n",
    "}\n",
    "\n",
    "\n",
    "def aerosol_risk(\n",
    "    room_vol: float, \n",
    "    source_is_vax: int, \n",
    "    time: float, \n",
    "    class_type: str, \n",
    "    VE_params: dict, \n",
    "    aerosol_params: dict\n",
    ") -> float:\n",
    "    r\"\"\"\n",
    "    Compute the risk due to aerosol transmission for an unvaccinated \n",
    "    susceptible person. The risk of aerosol transmission is assumed to be \n",
    "    uniform over all distances.\n",
    "    \n",
    "    Args:\n",
    "        room_vol: volume of the room, measured in cubic meters\n",
    "        source_is_vax: 1 if the source is vaccinated, 0 otherwise\n",
    "        time: exposure time, measured in hours\n",
    "        class_type: one of ['breathing', 'speaking', 'singing', \n",
    "            'heavy_breathing', 'no_aerosol']. The 'no_aerosol' scenario applies \n",
    "            to outdoor settings, where aerosols are quickly diluted by airflow.\n",
    "        VE_params: dictionary of vaccine effectiveness parameters. \n",
    "            'VE_susceptible' = amount reduction in infection risk for a \n",
    "                vaccinated susceptible person. e.g., VE_susceptible = 0.7 \n",
    "                <=> infection risk gets multiplied by 0.3 \n",
    "            'VE_transmission' = amount reduction in the viral load emitted by a \n",
    "                vaccinated infectious person. e.g., VE_transmission = 0.7 \n",
    "                <=> emitted viral load gets multiplied by 0.3\n",
    "        aerosol_params: dict of parameters for the aerosol transmission model\n",
    "    Returns:\n",
    "        risk of aerosol transmission\n",
    "    \"\"\"\n",
    "\n",
    "    if class_type == 'breathing':\n",
    "        v = aerosol_params['nominal_breathe_virus_emitted_hourly']\n",
    "    elif class_type == 'speaking':\n",
    "        v = aerosol_params['nominal_talk_virus_emitted_hourly']\n",
    "    elif class_type == 'singing':\n",
    "        v = aerosol_params['nominal_sing_virus_emitted_hourly']\n",
    "    elif class_type == 'heavy_breathing':\n",
    "        v = aerosol_params['nominal_heavy_breathe_virus_emitted_hourly']\n",
    "    elif class_type == 'no_aerosol':\n",
    "        return 0\n",
    "\n",
    "    hourly_virus_array = np.array([v/1000, v/100, v/10, v, v*10, v*100, v*1000])\n",
    "    dose_array = hourly_virus_array * aerosol_params['inhale_air_rate']/room_vol\n",
    "\n",
    "    if source_is_vax == 1:\n",
    "        dose_array = dose_array * (1 - VE_params['VE_transmission'])\n",
    "\n",
    "    effective_dose_array = dose_array / aerosol_params['dose_response_constant']\n",
    "    unvax_susceptible_risk_array = 1 - np.exp(-effective_dose_array)\n",
    "    unvax_susceptible_risk = np.dot(\n",
    "        unvax_susceptible_risk_array, \n",
    "        np.array(aerosol_params['viral_load_distribution'])\n",
    "    )\n",
    "    # scale by 2.4 for Delta\n",
    "    unvax_susceptible_risk_over_time = 2.4*unvax_susceptible_risk * time \n",
    "\n",
    "    return unvax_susceptible_risk_over_time"
   ]
  },
  {
   "cell_type": "code",
   "execution_count": 15,
   "metadata": {},
   "outputs": [],
   "source": [
    "import pickle\n",
    "\n",
    "def load_rooms(distancing):\n",
    "    if distancing == 1:\n",
    "        with open(\"../Data/small_room_info.pickle\" , 'rb') as handle:\n",
    "            layout = pickle.load(handle)\n",
    "            pixels_per_foot = layout['pixels_per_foot']\n",
    "            room_vol = layout['volume']\n",
    "            room = layout['plan']\n",
    "\n",
    "    elif distancing == 3:\n",
    "        with open(\"../Data/medium_room_info.pickle\" , 'rb') as handle:\n",
    "            layout = pickle.load(handle)\n",
    "            pixels_per_foot = layout['pixels_per_foot']\n",
    "            room_vol = layout['volume']\n",
    "            room = layout['plan']\n",
    "\n",
    "    else: \n",
    "        with open(\"../Data/big_room_info.pickle\" , 'rb') as handle:\n",
    "            layout = pickle.load(handle)\n",
    "            pixels_per_foot = layout['pixels_per_foot']\n",
    "            room_vol = layout['volume']\n",
    "            room = layout['plan']\n",
    "    \n",
    "    return room, room_vol, pixels_per_foot"
   ]
  },
  {
   "cell_type": "code",
   "execution_count": 19,
   "metadata": {},
   "outputs": [
    {
     "name": "stdout",
     "output_type": "stream",
     "text": [
      "1 222004\n",
      "3 1087931\n",
      "6 1684283\n"
     ]
    }
   ],
   "source": [
    "for distancing in [1,3,6]:\n",
    "    _, room_vol, _ = load_rooms(distancing)\n",
    "    print(distancing, room_vol)\n"
   ]
  },
  {
   "cell_type": "code",
   "execution_count": 20,
   "metadata": {},
   "outputs": [
    {
     "data": {
      "text/plain": [
       "0.0011669770604804815"
      ]
     },
     "execution_count": 20,
     "metadata": {},
     "output_type": "execute_result"
    }
   ],
   "source": [
    "aerosol_risk(\n",
    "    room_vol=222004,\n",
    "    source_is_vax=0,\n",
    "    time=1,\n",
    "    class_type='breathing',\n",
    "    VE_params={'VE_susceptible': 0., 'VE_transmission': 0.},\n",
    "    aerosol_params=aerosol_params\n",
    ")"
   ]
  },
  {
   "cell_type": "code",
   "execution_count": null,
   "metadata": {},
   "outputs": [],
   "source": []
  },
  {
   "cell_type": "code",
   "execution_count": 13,
   "metadata": {},
   "outputs": [
    {
     "data": {
      "text/plain": [
       "0.013980545244559295"
      ]
     },
     "execution_count": 13,
     "metadata": {},
     "output_type": "execute_result"
    }
   ],
   "source": [
    "droplet_risk_by_distance(\n",
    "    d=1, susceptible_status=\"U\", source_status=\"U\", time=1, class_type=\"breathing\", \n",
    "    VE_params={\"VE_susceptible\": 0, \"VE_transmission\": 0})\n"
   ]
  },
  {
   "cell_type": "code",
   "execution_count": 28,
   "metadata": {},
   "outputs": [
    {
     "name": "stdout",
     "output_type": "stream",
     "text": [
      "0.0 2.4 0.0005887046186657633 2.4005887046186656\n",
      "0.5 0.01803839860990202 0.0005887046186657633 0.018627103228567782\n",
      "1.0 0.007000482362552329 0.0005887046186657633 0.007589186981218092\n",
      "1.5 0.003874133460514972 0.0005887046186657633 0.004462838079180735\n",
      "2.0 0.00248279476637725 0.0005887046186657633 0.003071499385043013\n",
      "2.5 0.0017236226900277706 0.0005887046186657633 0.0023123273086935337\n",
      "3.0 0.0012574515648016594 0.0005887046186657633 0.0018461561834674225\n",
      "3.5 0.0009481255681154543 0.0005887046186657633 0.0015368301867812175\n",
      "4.0 0.0007312904393084629 0.0005887046186657633 0.0013199950579742261\n",
      "4.5 0.0005729375596411401 0.0005887046186657633 0.0011616421783069034\n",
      "5.0 0.0004535676451936865 0.0005887046186657633 0.0010422722638594498\n",
      "5.5 0.00036128088057036934 0.0005887046186657633 0.0009499854992361327\n",
      "6.0 0.00028844783670693984 0.0005887046186657633 0.000877152455372703\n",
      "6.5 0.00022997710083414444 0.0005887046186657633 0.0008186817194999077\n",
      "7.0 0.00018235634190491012 0.0005887046186657633 0.0007710609605706734\n",
      "7.5 0.00014309387764352977 0.0005887046186657633 0.000731798496309293\n",
      "8.0 0.00011037936839715101 0.0005887046186657633 0.0006990839870629142\n",
      "8.5 8.287007874638873e-05 0.0005887046186657633 0.000671574697412152\n",
      "9.0 5.95519900347341e-05 0.0005887046186657633 0.0006482566087004974\n",
      "9.5 3.964707817196711e-05 0.0005887046186657633 0.0006283516968377304\n",
      "10.0 2.2549924028858468e-05 0.0005887046186657633 0.0006112545426946218\n"
     ]
    },
    {
     "name": "stderr",
     "output_type": "stream",
     "text": [
      "/tmp/ipykernel_1507186/1661199126.py:57: RuntimeWarning: divide by zero encountered in log\n",
      "  (1-np.exp(-1 * source_const*0.0135*time*(-0.1819*np.log(d)+0.43276)/d))\n"
     ]
    }
   ],
   "source": [
    "for d in np.linspace(0,10,21):\n",
    "    droplet_risk = droplet_risk_by_distance(\n",
    "        d=d, susceptible_status=\"U\", source_status=\"V\", time=1, class_type=\"breathing\", \n",
    "        VE_params={\"VE_susceptible\": 0.5, \"VE_transmission\": 0.5})\n",
    "    aerosol_risk_ = aerosol_risk(\n",
    "            room_vol=222004,\n",
    "            source_is_vax=1,\n",
    "            time=1,\n",
    "            class_type='breathing',\n",
    "            VE_params={'VE_susceptible': 0.5, 'VE_transmission': 0.5},\n",
    "            aerosol_params=aerosol_params\n",
    "        )\n",
    "    print(d, droplet_risk, aerosol_risk_, droplet_risk+aerosol_risk_)"
   ]
  },
  {
   "cell_type": "code",
   "execution_count": null,
   "metadata": {},
   "outputs": [],
   "source": []
  }
 ],
 "metadata": {
  "kernelspec": {
   "display_name": "ClassroomSim",
   "language": "python",
   "name": "python3"
  },
  "language_info": {
   "codemirror_mode": {
    "name": "ipython",
    "version": 3
   },
   "file_extension": ".py",
   "mimetype": "text/x-python",
   "name": "python",
   "nbconvert_exporter": "python",
   "pygments_lexer": "ipython3",
   "version": "3.9.13"
  },
  "orig_nbformat": 4
 },
 "nbformat": 4,
 "nbformat_minor": 2
}
